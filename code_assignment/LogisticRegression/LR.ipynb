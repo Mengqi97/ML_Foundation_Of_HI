{
 "cells": [
  {
   "cell_type": "code",
   "execution_count": 1,
   "metadata": {},
   "outputs": [],
   "source": [
    "## 尝试一下调参数: W初始化 b初始化 学习率 batch_size大小 结果会很不一样"
   ]
  },
  {
   "cell_type": "code",
   "execution_count": 2,
   "metadata": {},
   "outputs": [],
   "source": [
    "import numpy as np\n",
    "from matplotlib import pyplot as plt "
   ]
  },
  {
   "cell_type": "code",
   "execution_count": 26,
   "metadata": {},
   "outputs": [],
   "source": [
    "data = []\n",
    "label = []\n",
    "with open(\"data.txt\") as f:\n",
    "    lines = f.readlines()\n",
    "    for line in lines:\n",
    "        line = line.strip().split(\",\")\n",
    "        data.append([float(line[0]),float(line[1])])\n",
    "        label.append(int(line[2]))\n",
    "    "
   ]
  },
  {
   "cell_type": "code",
   "execution_count": 27,
   "metadata": {},
   "outputs": [
    {
     "data": {
      "image/png": "[encoded data removed]",
      "text/plain": [
       "<Figure size 432x288 with 1 Axes>"
      ]
     },
     "metadata": {
      "needs_background": "light"
     },
     "output_type": "display_data"
    }
   ],
   "source": [
    "for i,d in enumerate(data):\n",
    "    x1 = d[0]\n",
    "    x2 = d[1]\n",
    "    y = label[i]\n",
    "    plt.scatter(x1,x2,color=\"green\" if y==1 else \"red\")\n",
    "plt.show()"
   ]
  },
  {
   "cell_type": "code",
   "execution_count": 51,
   "metadata": {},
   "outputs": [],
   "source": [
    "class LogisticRegression():\n",
    "    def __init__(self,input_dim,learn_rate=0.001):\n",
    "        #a two label classifer demo\n",
    "        self.W = np.random.randn(input_dim)\n",
    "        self.b = 0\n",
    "        self.learn_rate = learn_rate\n",
    "    \n",
    "    \n",
    "    def sigmoid(self,x):\n",
    "        y = 1/(1+np.exp(-x))\n",
    "        return y\n",
    "        \n",
    "    def linear(self,x):\n",
    "        y = np.dot(x,self.W)+self.b\n",
    "        return y\n",
    "    \n",
    "    def __call__(self,input):\n",
    "        y = self.sigmoid(self.linear(input))\n",
    "        return y\n",
    "    \n",
    "    def cost(self,input,label):\n",
    "        x = np.array(input)\n",
    "        y = np.array(label)\n",
    "        m = x.shape[0]\n",
    "        output = self.__call__(x)\n",
    "        avg_cost = -(1/m) * np.sum(( y*np.log(output) + (1-y)*np.log(1-output) ))\n",
    "        return avg_cost\n",
    "    \n",
    "    def gradient_descent(self,input,label):\n",
    "        x = np.array(input)\n",
    "        y = np.array(label)\n",
    "        m = x.shape[0]\n",
    "        output = self.__call__(x)\n",
    "        gradient_w = 1/m*np.dot((output-label).T,x)\n",
    "        gradient_b = 1/m*np.sum(output-label)\n",
    "        self.W = self.W - self.learn_rate*gradient_w\n",
    "        self.b = self.b - self.learn_rate*gradient_b\n",
    "        \n",
    "    "
   ]
  },
  {
   "cell_type": "code",
   "execution_count": 70,
   "metadata": {},
   "outputs": [],
   "source": [
    "model = LogisticRegression(2)"
   ]
  },
  {
   "cell_type": "code",
   "execution_count": 71,
   "metadata": {},
   "outputs": [],
   "source": [
    "#batch为2\n",
    "batch_size = 2\n",
    "for i in range(0,len(data),batch_size):\n",
    "    d = data[i:i+batch_size]\n",
    "    y = label[i:i+batch_size]\n",
    "    model.gradient_descent(d,y)"
   ]
  },
  {
   "cell_type": "code",
   "execution_count": 72,
   "metadata": {},
   "outputs": [
    {
     "data": {
      "image/png": "[encoded data removed]",
      "text/plain": [
       "<Figure size 432x288 with 1 Axes>"
      ]
     },
     "metadata": {
      "needs_background": "light"
     },
     "output_type": "display_data"
    }
   ],
   "source": [
    "y = model(data)\n",
    "for x,c in zip(data,y):\n",
    "    plt.scatter(x[0],x[1],color=\"green\" if c>=0.8 else \"red\")"
   ]
  },
  {
   "cell_type": "code",
   "execution_count": null,
   "metadata": {},
   "outputs": [],
   "source": []
  }
 ],
 "metadata": {
  "kernelspec": {
   "display_name": "Python 3",
   "language": "python",
   "name": "python3"
  },
  "language_info": {
   "codemirror_mode": {
    "name": "ipython",
    "version": 3
   },
   "file_extension": ".py",
   "mimetype": "text/x-python",
   "name": "python",
   "nbconvert_exporter": "python",
   "pygments_lexer": "ipython3",
   "version": "3.8.5"
  }
 },
 "nbformat": 4,
 "nbformat_minor": 4
}
